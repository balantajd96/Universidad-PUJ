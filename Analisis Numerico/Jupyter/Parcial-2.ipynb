{
 "cells": [
  {
   "cell_type": "markdown",
   "metadata": {},
   "source": [
    "### ELiminacion Gaussiana"
   ]
  },
  {
   "cell_type": "code",
   "execution_count": 15,
   "metadata": {},
   "outputs": [],
   "source": [
    "function [A,b]=eliminacionGauss(A,b) %Este programa calcula la matriz escalonada equivalente por filas a la matriz A\n",
    "[n,m]=size(A);\n",
    "for j=1:m-1\n",
    "    for i=j+1:n\n",
    "        mult=A(i,j)/A(j,j);  %calculo del multiplicador\n",
    "        for k=j:m\n",
    "        A(i,k)=A(i,k)-mult*A(j,k);\n",
    "        end\n",
    "        b(i)=b(i)-mult*b(j);\n",
    "    end\n",
    "end\n",
    "end"
   ]
  },
  {
   "cell_type": "code",
   "execution_count": 2,
   "metadata": {},
   "outputs": [],
   "source": [
    "function x=sustitucionAtras(U,b)\n",
    "n=length(b);\n",
    "x(n+1)=0;\n",
    "for k=n:-1:1\n",
    "    suma=0;\n",
    "    for j=k+1:n\n",
    "        suma=suma+U(k,j)*x(j);\n",
    "    end\n",
    "    x(k)=(b(k)-suma)/U(k,k);\n",
    "end\n",
    "x=x(1,1:n)'\n",
    "endfunction"
   ]
  },
  {
   "cell_type": "code",
   "execution_count": 24,
   "metadata": {},
   "outputs": [],
   "source": [
    "function x=sustitucionAdelante(U,b)\n",
    "n=length(b);\n",
    "x(n+1)=0;\n",
    "for k=1:1:n\n",
    "    suma=0;\n",
    "    for j=1:k-1\n",
    "        suma=suma+U(k,j)*x(j)\n",
    "    end\n",
    "    x(k)=(b(k)-suma)/U(k,k)\n",
    "end\n",
    "x=x(1,1:n)';\n",
    "endfunction"
   ]
  },
  {
   "cell_type": "markdown",
   "metadata": {},
   "source": [
    "Ejemplo 1"
   ]
  },
  {
   "cell_type": "code",
   "execution_count": 26,
   "metadata": {},
   "outputs": [
    {
     "name": "stdout",
     "output_type": "stream",
     "text": [
      "x =\r\n",
      "\r\n",
      "  -0.50000   0.00000   0.00000   0.00000\r\n",
      "\r\n",
      "suma =  0.50000\r\n",
      "x =\r\n",
      "\r\n",
      "  -0.50000   2.50000   0.00000   0.00000\r\n",
      "\r\n",
      "suma = -1.5000\r\n",
      "suma =  3.5000\r\n",
      "x =\r\n",
      "\r\n",
      "  -0.50000   2.50000   3.50000   0.00000\r\n",
      "\r\n",
      "x =\r\n",
      "\r\n",
      "  -0.50000\r\n",
      "   2.50000\r\n",
      "   3.50000\r\n",
      "\r\n"
     ]
    }
   ],
   "source": [
    "A=[2 0 0\n",
    "-1 1 0\n",
    "3 2 -1];\n",
    "\n",
    "b=[-1 3 0];\n",
    "\n",
    "x=sustitucionAdelante(A,b)"
   ]
  },
  {
   "cell_type": "markdown",
   "metadata": {},
   "source": [
    "### Factorizacion LU\n",
    "parcial y \n",
    "No vimos cholesky\n",
    "Use la factorizacion de LU para resolver n sistemas que le permitan hayar la solucion\n",
    "\n",
    "Use la inversa de "
   ]
  },
  {
   "cell_type": "code",
   "execution_count": null,
   "metadata": {},
   "outputs": [],
   "source": [
    "function pb=cal_pivo(b,p)\n",
    "n = length(p);\n",
    "    for k=1:n\n",
    "        pb(k)=b(p(k));\n",
    "    endfor\n",
    "end"
   ]
  },
  {
   "cell_type": "code",
   "execution_count": null,
   "metadata": {},
   "outputs": [],
   "source": [
    "function [A,p] = fac_LU_piv(A)\n",
    "n = length(A);\n",
    "for k=1:n\n",
    "    p(k)=k;\n",
    "end\n",
    "\n",
    "for k = 1:n-1\n",
    "    % pivoteo parcial\n",
    "    pv=abs(A(k,k));\n",
    "    r=k;\n",
    "    for(i=k:n)\n",
    "        if(abs(A(i,k)>pv))\n",
    "\t    pv=\tabs(A(i,k));\n",
    "            r=i;\n",
    "        end\n",
    "    end\n",
    "    if pv==0\n",
    "        sprintf('la matriz es singular')\n",
    "        break\n",
    "    end\n",
    "    if r~=k\n",
    "        aux=p(k);\n",
    "        p(k)=p(r);\n",
    "        p(r)=aux;\n",
    "        for(j=1:n)\n",
    "            tem=A(k,j)\n",
    "            A(k,j)=A(r,j);\n",
    "            A(r,j)=tem;\n",
    "        end\n",
    "    end\n",
    "    % Elimination phase\n",
    "    for i= k+1:n\n",
    "        if A(i,k) ~= 0\n",
    "        lambda = A(i,k)/A(k,k);\n",
    "        A(i,k+1:n) = A(i,k+1:n) - lambda*A(k,k+1:n);\n",
    "        A(i,k)=lambda;\n",
    "        \n",
    "        end\n",
    "    end\n",
    "    if A(k,k)==0\n",
    "        sprintf('la matriz es singular ')\n",
    "        break\n",
    "    end\n",
    "end\n"
   ]
  },
  {
   "cell_type": "markdown",
   "metadata": {},
   "source": [
    "Matrices definidas positivas"
   ]
  },
  {
   "cell_type": "code",
   "execution_count": 5,
   "metadata": {},
   "outputs": [],
   "source": [
    "function [sol,iteraciones,error]=jacobi(A,b,x0,tol,N)\n",
    "\n",
    "D=diag(diag(A));\n",
    "B=A-D;\n",
    "Dinv=diag(1./diag(A));\n",
    "k=1;\n",
    "\n",
    "x1=Dinv*(b-B*x0);\n",
    "\n",
    "for k=1:N\n",
    "    x0=x1;\n",
    "    x1=Dinv*(b-B*x0);\n",
    "    if norm(x1-x0)<tol\n",
    "        break\n",
    "    end\n",
    "end\n",
    "if k==N\n",
    "    disp('Alcanzó el número máximo de iteraciones')\n",
    "end\n",
    "\n",
    "sol=x1;\n",
    "iteraciones=k;\n",
    "error=norm(x1-x0,2);\n",
    "end"
   ]
  },
  {
   "cell_type": "code",
   "execution_count": 6,
   "metadata": {},
   "outputs": [],
   "source": [
    "function [sol,iteraciones,error]=gauss_seidel(A,b,x0,tol,N)\n",
    "\n",
    "D=diag(diag(A));\n",
    "L=tril(A);#No se resto el D, por lo que ya tiene sumada(L+D)\n",
    "U=triu(A)-D;\n",
    "Linv=diag(1./diag(L));\n",
    "k=1;\n",
    "\n",
    "x1=Dinv*(b-U*x0);\n",
    "\n",
    "for k=1:N-1\n",
    "    x0=x1;\n",
    "    x1=Dinv*(b-U*x0);\n",
    "    if norm(x1-x0)<tol\n",
    "        break\n",
    "    end\n",
    "end\n",
    "if k==N-1\n",
    "    disp('Alcanzó el número máximo de iteraciones')\n",
    "end\n",
    "\n",
    "sol=x1;\n",
    "iteraciones=k+1;\n",
    "error=norm(x1-x0,2);\n",
    "end"
   ]
  },
  {
   "cell_type": "markdown",
   "metadata": {},
   "source": [
    "# Interpolacion\n",
    "\n",
    "primeras cantidades seran distintas /\n",
    "tengo n+1 puntos/\n",
    "solo existe 1 unico polinomio/\n",
    "de grado n/\n",
    "\n",
    "----/\n",
    "Si la matriz es mal condicionada el mas minimo cambio, implicaria grandes errores en la solucion/"
   ]
  },
  {
   "cell_type": "code",
   "execution_count": 115,
   "metadata": {},
   "outputs": [],
   "source": [
    "function c = newtondd(x,y)\n",
    "    n=length(x);\n",
    "    v=zeros(n);\n",
    "    for j=1:n\n",
    "        v(j,1)= y(j); \n",
    "    end\n",
    "    for i=2:n ,\n",
    "        for j =1: n + 1- i \n",
    "            v(j,i)=(v (j+ 1,i-1)-v(j,i-1))/(x(j+ i-1)-x(j));\n",
    "        end\n",
    "    end\n",
    "    for i=1:n\n",
    "        c(i)= v(1,i);%considera los coeficientes del polinomio como la parte superior del triángulo\n",
    "    end\n",
    "end"
   ]
  },
  {
   "cell_type": "markdown",
   "metadata": {},
   "source": [
    "### Tarea en progreso"
   ]
  },
  {
   "cell_type": "code",
   "execution_count": 116,
   "metadata": {},
   "outputs": [],
   "source": [
    "function resultado = interpolacionNewton(vectorN,x,vectorV)\n",
    "    vectorInterpolacion=[];\n",
    "    for v=1:length(vectorV);\n",
    "        suma=vectorN(1);\n",
    "        for n= 2:length(vectorN)%vectorN=[ -1 2 0 0]; length(vectorN)=4 va de 2 a 4 porque (v-vectorN(n)) inicia en el segundo elemento de la suma ej: -1{primer elemento}+ 2(x-0){segundo elemento}+ ...] \n",
    "            if n!=0\n",
    "                suma+=vectorN(n).*(vectorV(v)-x(n-1));\n",
    "            endif\n",
    "        endfor\n",
    "        vectorInterpolacion(end+1)=suma;\n",
    "    endfor\n",
    "    resultado=vectorInterpolacion;\n",
    "endfunction"
   ]
  },
  {
   "cell_type": "code",
   "execution_count": 117,
   "metadata": {},
   "outputs": [
    {
     "name": "stdout",
     "output_type": "stream",
     "text": [
      "  -1   2  -0   0\r\n"
     ]
    },
    {
     "data": {
      "image/png": "[encoded data removed]",
      "text/plain": [
       "<IPython.core.display.Image object>"
      ]
     },
     "metadata": {},
     "output_type": "display_data"
    }
   ],
   "source": [
    "%x=linspace(0,pi/2,4);\n",
    "%y=sin(x);\n",
    "\n",
    "x=[0 2 -1 1/2];\n",
    "y=[-1 3 -3 0];\n",
    "\n",
    "vectorN=newtondd(x,y);\n",
    "disp(n)\n",
    "\n",
    "vectorV=[];\n",
    "vectorV=linspace(0,2,100);\n",
    "vectorInterpolacion=interpolacionNewton(vectorN,x,vectorV);\n",
    "\n",
    "plot(vectorV,vectorInterpolacion)"
   ]
  },
  {
   "cell_type": "code",
   "execution_count": 93,
   "metadata": {},
   "outputs": [
    {
     "name": "stdout",
     "output_type": "stream",
     "text": [
      "error: invalid indices: should be integers or boolean\n",
      "error: called from\n",
      "    subsasgn at line 97 column 13\n",
      "   2\n",
      "  x \n"
     ]
    }
   ],
   "source": [
    "pkg load symbolic\n",
    "syms xe\n",
    "\n",
    "f(x)=x.^2+3;\n",
    "\n",
    "disp(f)"
   ]
  },
  {
   "cell_type": "code",
   "execution_count": 55,
   "metadata": {},
   "outputs": [
    {
     "name": "stdout",
     "output_type": "stream",
     "text": [
      "x =\n",
      "\n",
      "   1   2   4   5\n",
      "\n",
      "y =\n",
      "\n",
      "   2   1   4   3\n",
      "\n"
     ]
    }
   ],
   "source": [
    "x=[1 2 4 5]\n",
    "y=[2 1 4 3]\n",
    "\n",
    "function ans = eval(v,n,x,xe)\n",
    "    \n",
    "endfunction"
   ]
  },
  {
   "cell_type": "code",
   "execution_count": null,
   "metadata": {},
   "outputs": [],
   "source": [
    "Interpolacion\n",
    "No Deben estar los puntos ordenados\n",
    "No Deben estar espaciadas"
   ]
  },
  {
   "cell_type": "markdown",
   "metadata": {},
   "source": [
    "OJO buscar!!!\n",
    "Splines\n",
    "SPlines Cubicos\n",
    "\n",
    "Estar en orden los puntos\n",
    "No deben estar igualmente espaciados\n",
    "\n",
    "fenomeno de runge(muchos puntos)\n",
    "\n",
    "Condiciones Naturales"
   ]
  },
  {
   "cell_type": "code",
   "execution_count": null,
   "metadata": {},
   "outputs": [],
   "source": []
  }
 ],
 "metadata": {
  "kernelspec": {
   "display_name": "Octave",
   "language": "octave",
   "name": "octave"
  },
  "language_info": {
   "file_extension": ".m",
   "help_links": [
    {
     "text": "GNU Octave",
     "url": "https://www.gnu.org/software/octave/support.html"
    },
    {
     "text": "Octave Kernel",
     "url": "https://github.com/Calysto/octave_kernel"
    },
    {
     "text": "MetaKernel Magics",
     "url": "https://metakernel.readthedocs.io/en/latest/source/README.html"
    }
   ],
   "mimetype": "text/x-octave",
   "name": "octave",
   "version": "4.4.1"
  }
 },
 "nbformat": 4,
 "nbformat_minor": 2
}
