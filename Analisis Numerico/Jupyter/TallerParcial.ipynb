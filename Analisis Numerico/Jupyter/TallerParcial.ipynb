{
 "cells": [
  {
   "cell_type": "markdown",
   "metadata": {},
   "source": [
    "# Taller Parcial"
   ]
  },
  {
   "cell_type": "markdown",
   "metadata": {},
   "source": [
    "# Parcial 1.1"
   ]
  },
  {
   "cell_type": "markdown",
   "metadata": {},
   "source": [
    "## Punto 1 (8 puntos) "
   ]
  },
  {
   "cell_type": "code",
   "execution_count": 30,
   "metadata": {},
   "outputs": [
    {
     "name": "stdout",
     "output_type": "stream",
     "text": [
      " 2.2361\r\n",
      " 3.5355\r\n",
      " 4.1603\r\n",
      " 4.4721\r\n",
      " 4.6424\r\n",
      " 4.7434\r\n",
      " 4.8076\r\n",
      " 4.8507\r\n",
      " 4.8809\r\n",
      " 4.9029\r\n",
      " 4.9193\r\n",
      " 4.9320\r\n",
      " 4.9419\r\n",
      " 4.9497\r\n",
      " 4.9561\r\n",
      " 4.9614\r\n",
      " 4.9658\r\n",
      " 4.9694\r\n",
      " 4.9725\r\n",
      " 4.9752\r\n"
     ]
    }
   ],
   "source": [
    "%Contruya una funcion para cada sucesi ́on y calcule 20 iteraciones\n",
    "\n",
    "function ans= punto1 (n)\n",
    "    ans=(5.*n)/(sqrt(n.*n+4));\n",
    "endfunction\n",
    "\n",
    "for i = 1:20\n",
    "    disp(punto1(i))\n",
    "endfor"
   ]
  },
  {
   "cell_type": "markdown",
   "metadata": {},
   "source": [
    "### Como podemos ver, la funcion converge a 5"
   ]
  },
  {
   "cell_type": "code",
   "execution_count": 35,
   "metadata": {},
   "outputs": [
    {
     "data": {
      "image/png": "[encoded data removed]",
      "text/plain": [
       "<IPython.core.display.Image object>"
      ]
     },
     "metadata": {},
     "output_type": "display_data"
    }
   ],
   "source": [
    "%Guarde los valores de la sucesi ́on en un vectorYy grafique posici ́on contraY.(Dibujelos ejes coordenados)\n",
    "\n",
    "function ans= punto1 (n)\n",
    "    ans=(5.*n)/(sqrt(n.*n+4));\n",
    "endfunction\n",
    "\n",
    "x = 1:1:20;\n",
    "y= [];\n",
    "\n",
    "for i = x;\n",
    "    y(end+1) = punto1(i);\n",
    "endfor\n",
    "\n",
    "plot(x,y)\n",
    "\n",
    "%disp(x)\n",
    "%disp(y)"
   ]
  },
  {
   "cell_type": "markdown",
   "metadata": {},
   "source": [
    "### Punto 2 (6 puntos)"
   ]
  },
  {
   "cell_type": "code",
   "execution_count": 91,
   "metadata": {},
   "outputs": [
    {
     "name": "stdout",
     "output_type": "stream",
     "text": [
      "   0   0   0   0   0\r\n",
      "   3   0   0   0   0\r\n",
      "   0   3   0   0   0\r\n",
      "   0   0   3   0   0\r\n",
      "   0   0   0   3   0\r\n"
     ]
    }
   ],
   "source": [
    "%su diagonal principal tenga solo 1\n",
    "function ans= punto2a (n)\n",
    "    %M= eye(n);\n",
    "    x=ones(n,1);\n",
    "    M=diag(x,0);\n",
    "    ans= M;\n",
    "endfunction\n",
    "\n",
    "function ans= punto2b(n)\n",
    "    x= 1:1:n-1;\n",
    "    x=x.*2;\n",
    "    M= diag(x,1);\n",
    "    ans=M;\n",
    "endfunction\n",
    "\n",
    "function ans= punto2c(n)\n",
    "    x=ones(n-1,1);\n",
    "    x=x.*3;\n",
    "    M=diag(x,-1);\n",
    "    ans=M;\n",
    "endfunction\n",
    "\n",
    "disp(punto)\n",
    "disp(punto2c(5))"
   ]
  },
  {
   "cell_type": "markdown",
   "metadata": {},
   "source": [
    "### Punto 3  (12 puntos) "
   ]
  },
  {
   "cell_type": "markdown",
   "metadata": {},
   "source": [
    "### 3.a Indique para que se usan los metodos de biseccion y de la falsa posicion.\n",
    "\n",
    "##### La Biseccion y la falsa Posicion sirven para encontrar ceros y resolver ecuaciones\n",
    "\n",
    "### 3.b Explique y escriba el pseudo codigo de uno de ellos y mencione las diferencias entre los dos.\n",
    "#### Biseccion(Punto medio)\n",
    "####  Falsa Posicion(Punto de corte)\n"
   ]
  },
  {
   "cell_type": "markdown",
   "metadata": {},
   "source": [
    "### Punto 4 (24 puntos)"
   ]
  },
  {
   "cell_type": "markdown",
   "metadata": {},
   "source": [
    "#### relativo= escalas grandes\n",
    "#### absoluto= escalas pequenias"
   ]
  },
  {
   "cell_type": "code",
   "execution_count": null,
   "metadata": {},
   "outputs": [],
   "source": []
  }
 ],
 "metadata": {
  "kernelspec": {
   "display_name": "Octave",
   "language": "octave",
   "name": "octave"
  },
  "language_info": {
   "file_extension": ".m",
   "help_links": [
    {
     "text": "GNU Octave",
     "url": "https://www.gnu.org/software/octave/support.html"
    },
    {
     "text": "Octave Kernel",
     "url": "https://github.com/Calysto/octave_kernel"
    },
    {
     "text": "MetaKernel Magics",
     "url": "https://metakernel.readthedocs.io/en/latest/source/README.html"
    }
   ],
   "mimetype": "text/x-octave",
   "name": "octave",
   "version": "4.4.1"
  }
 },
 "nbformat": 4,
 "nbformat_minor": 2
}
