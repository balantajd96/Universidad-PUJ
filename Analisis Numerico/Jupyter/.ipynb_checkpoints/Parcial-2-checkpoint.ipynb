{
 "cells": [
  {
   "cell_type": "code",
   "execution_count": null,
   "metadata": {},
   "outputs": [],
   "source": [
    "function [A,b]=eliminacionGauss(A,b) %Este programa calcula la matriz escalonada equivalente por filas a la matriz A\n",
    "[n,m]=size(A);\n",
    "for j=1:m-1\n",
    "    for i=j+1:n\n",
    "        mult=A(i,j)/A(j,j);  %calculo del multiplicador\n",
    "        for k=j:m\n",
    "        A(i,k)=A(i,k)-mult*A(j,k);\n",
    "        end\n",
    "        b(i)=b(i)-mult*b(j);\n",
    "    end\n",
    "end\n",
    "end"
   ]
  },
  {
   "cell_type": "code",
   "execution_count": null,
   "metadata": {},
   "outputs": [],
   "source": [
    "function x=sustitucionAtras(U,b)\n",
    "n=length(b);\n",
    "x(n+1)=0;\n",
    "for k=n:-1:1\n",
    "    suma=0;\n",
    "    for j=k+1:n\n",
    "        suma=suma+U(k,j)*x(j);\n",
    "    end\n",
    "    x(k)=(b(k)-suma)/U(k,k);\n",
    "end\n",
    "x=x(1,1:n)'\n",
    "endfunction"
   ]
  },
  {
   "cell_type": "code",
   "execution_count": 8,
   "metadata": {},
   "outputs": [
    {
     "name": "stdout",
     "output_type": "stream",
     "text": [
      "ans =  2.0001\n",
      "ans =  2.0001\n",
      "ans =  40004.00010\n"
     ]
    }
   ],
   "source": [
    "A=[1+10.^(-4) 1\n",
    "1 1\n",
    "];\n",
    "\n",
    "B=[\n",
    "2+10.^(-4)\n",
    "2\n",
    "];\n",
    "\n",
    "Bmo= [2+2.*10.^(-4)\n",
    "2\n",
    "];\n",
    "\n",
    "norm(A,1)\n",
    "cond(A,1)"
   ]
  },
  {
   "cell_type": "code",
   "execution_count": null,
   "metadata": {},
   "outputs": [],
   "source": []
  }
 ],
 "metadata": {
  "kernelspec": {
   "display_name": "Octave",
   "language": "octave",
   "name": "octave"
  },
  "language_info": {
   "file_extension": ".m",
   "help_links": [
    {
     "text": "GNU Octave",
     "url": "https://www.gnu.org/software/octave/support.html"
    },
    {
     "text": "Octave Kernel",
     "url": "https://github.com/Calysto/octave_kernel"
    },
    {
     "text": "MetaKernel Magics",
     "url": "https://metakernel.readthedocs.io/en/latest/source/README.html"
    }
   ],
   "mimetype": "text/x-octave",
   "name": "octave",
   "version": "4.4.1"
  }
 },
 "nbformat": 4,
 "nbformat_minor": 2
}
