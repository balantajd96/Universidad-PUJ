{
 "cells": [
  {
   "cell_type": "markdown",
   "metadata": {},
   "source": [
    "### Análisis y Computación Numérica"
   ]
  },
  {
   "cell_type": "code",
   "execution_count": 13,
   "metadata": {},
   "outputs": [
    {
     "name": "stdout",
     "output_type": "stream",
     "text": [
      "    5.00000   -1.00000    1.00000    7.00000\n",
      "    0.00000   -7.20000    0.20000  -26.60000\n",
      "    0.00000    0.00000    5.41667   15.58333\n",
      "error: Invalid call to disp.  Correct usage is:\n",
      "\n",
      " -- disp (X)\n",
      " -- STR = disp (X)\n",
      "error: called from\n",
      "    print_usage at line 91 column 5\n",
      "    eliGauss at line 24 column 5\n"
     ]
    }
   ],
   "source": [
    "function resultado = eliGauss(A,b);\n",
    "    %A= input('Ingrese la matriz de  terminos independientes: A= \\n')\n",
    "    %b= input('Ingrese el vector de terminos independientes: \\n')\n",
    "    \n",
    "    Au=[A,b];\n",
    "    N=length(A);\n",
    "    \n",
    "    for j=1:N\n",
    "        for i=j+1:N\n",
    "            m=Au(i,j)/Au(j,j);\n",
    "            Au(i,:)=Au(i,:)-m*Au(j,:);\n",
    "        endfor\n",
    "    endfor\n",
    "    disp(Au)\n",
    "    \n",
    "    %Retroceso\n",
    "\n",
    "    x(N) = Au(N,N+1)/Au(N,N);\n",
    "    for k=N-1:-1:1\n",
    "        for i=k+1:N\n",
    "            suma=Au(k,i)*x(i);\n",
    "            x(k)=(Au(k,N=1)-suma)/Au(k,k);\n",
    "        endfor\n",
    "    endfor\n",
    "    disp()\n",
    "endfunction\n",
    "\n",
    "M1=[ 5 -1 1\n",
    "4 -8 1\n",
    "-2 1 5\n",
    "];\n",
    "b1=[7 \n",
    "-21 \n",
    "15];\n",
    "eliGauss(M1,b1)"
   ]
  },
  {
   "cell_type": "markdown",
   "metadata": {},
   "source": [
    "$$c = \\sqrt{a^2 + b^2}$$"
   ]
  },
  {
   "cell_type": "code",
   "execution_count": null,
   "metadata": {},
   "outputs": [],
   "source": []
  }
 ],
 "metadata": {
  "kernelspec": {
   "display_name": "Octave",
   "language": "octave",
   "name": "octave"
  },
  "language_info": {
   "file_extension": ".m",
   "help_links": [
    {
     "text": "GNU Octave",
     "url": "https://www.gnu.org/software/octave/support.html"
    },
    {
     "text": "Octave Kernel",
     "url": "https://github.com/Calysto/octave_kernel"
    },
    {
     "text": "MetaKernel Magics",
     "url": "https://metakernel.readthedocs.io/en/latest/source/README.html"
    }
   ],
   "mimetype": "text/x-octave",
   "name": "octave",
   "version": "4.4.1"
  }
 },
 "nbformat": 4,
 "nbformat_minor": 2
}
