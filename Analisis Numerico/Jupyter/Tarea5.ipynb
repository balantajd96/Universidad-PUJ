{
 "cells": [
  {
   "cell_type": "markdown",
   "metadata": {},
   "source": [
    "### Análisis y Computación Numérica"
   ]
  },
  {
   "cell_type": "code",
   "execution_count": 1,
   "metadata": {},
   "outputs": [
    {
     "name": "stdout",
     "output_type": "stream",
     "text": [
      "N =  3\n",
      "M =  3\n",
      "    5.00000   -1.00000    1.00000    7.00000\n",
      "    0.00000   -7.20000    0.20000  -26.60000\n",
      "    0.00000    0.00000    5.41667   15.58333\n",
      "error: Invalid call to disp.  Correct usage is:\n",
      "\n",
      " -- disp (X)\n",
      " -- STR = disp (X)\n",
      "error: called from\n",
      "    print_usage at line 91 column 5\n",
      "    eliGauss at line 28 column 5\n"
     ]
    }
   ],
   "source": [
    "function resultado = eliGauss(A,b);\n",
    "    %A= input('Ingrese la matriz de  terminos independientes: A= \\n')\n",
    "    %b= input('Ingrese el vector de terminos independientes: \\n')\n",
    "    \n",
    "    Au=[A,b];\n",
    "    N=length(A);\n",
    "    [N M]=size(A)\n",
    "    \n",
    "    for j=1:M-1\n",
    "        for i=j+1:N\n",
    "            m=Au(i,j)/Au(j,j);\n",
    "            for k=j:M+1\n",
    "                Au(i,k)=Au(i,k)-m*Au(j,k);\n",
    "            endfor\n",
    "        endfor\n",
    "    endfor\n",
    "    disp(Au)\n",
    "    \n",
    "    %Retroceso\n",
    "\n",
    "    x(N) = Au(N,N+1)/Au(N,N);\n",
    "    for k=N-1:-1:1\n",
    "        for i=k+1:N\n",
    "            suma=Au(k,i)*x(i);\n",
    "        endfor\n",
    "        x(k)=(Au(k,N=1)-suma)/Au(k,k);\n",
    "    endfor\n",
    "    x=x(1,1:n)\n",
    "endfunction\n",
    "\n",
    "M1=[ 5 -1 1\n",
    "4 -8 1\n",
    "-2 1 5\n",
    "];\n",
    "b1=[7 \n",
    "-21 \n",
    "15];\n",
    "eliGauss(M1,b1)"
   ]
  },
  {
   "cell_type": "markdown",
   "metadata": {},
   "source": [
    "$$c = \\sqrt{a^2 + b^2}$$"
   ]
  },
  {
   "cell_type": "markdown",
   "metadata": {},
   "source": [
    "redondeo a 3 cifras"
   ]
  },
  {
   "cell_type": "code",
   "execution_count": 18,
   "metadata": {},
   "outputs": [
    {
     "name": "stdout",
     "output_type": "stream",
     "text": [
      "ans =  59.489\r\n"
     ]
    }
   ],
   "source": [
    "58.9.*(1.01)"
   ]
  },
  {
   "cell_type": "code",
   "execution_count": 21,
   "metadata": {},
   "outputs": [
    {
     "name": "stdout",
     "output_type": "stream",
     "text": [
      "ecu = (sym)\n",
      "\n",
      "   2        \n",
      "  x  - 1 = 0\n",
      "\n",
      "ans = (sym 2×1 matrix)\n",
      "\n",
      "  ⎡-1⎤\n",
      "  ⎢  ⎥\n",
      "  ⎣1 ⎦\n",
      "\n"
     ]
    }
   ],
   "source": [
    "pkg load symbolic\n",
    "syms x\n",
    "ecu = x^2-1==0\n",
    "\n",
    "solve(ecu)"
   ]
  },
  {
   "cell_type": "code",
   "execution_count": null,
   "metadata": {},
   "outputs": [],
   "source": [
    "pkg load symbolic\n",
    "syms x y z\n",
    "ecu =[4*x]\n",
    "\n",
    "solve(ecu)"
   ]
  },
  {
   "cell_type": "code",
   "execution_count": null,
   "metadata": {},
   "outputs": [],
   "source": []
  }
 ],
 "metadata": {
  "kernelspec": {
   "display_name": "Octave",
   "language": "octave",
   "name": "octave"
  },
  "language_info": {
   "file_extension": ".m",
   "help_links": [
    {
     "text": "GNU Octave",
     "url": "https://www.gnu.org/software/octave/support.html"
    },
    {
     "text": "Octave Kernel",
     "url": "https://github.com/Calysto/octave_kernel"
    },
    {
     "text": "MetaKernel Magics",
     "url": "https://metakernel.readthedocs.io/en/latest/source/README.html"
    }
   ],
   "mimetype": "text/x-octave",
   "name": "octave",
   "version": "4.4.1"
  }
 },
 "nbformat": 4,
 "nbformat_minor": 2
}
